{
 "cells": [
  {
   "cell_type": "markdown",
   "id": "985f5194-3924-49de-a79c-a0ac73fb83c8",
   "metadata": {},
   "source": [
    "# `magplots` Examples"
   ]
  },
  {
   "cell_type": "code",
   "execution_count": null,
   "id": "c27ff990-f512-43a6-8d1d-bf7a12c35cea",
   "metadata": {},
   "outputs": [],
   "source": [
    "# # Install if needed:\n",
    "# pip install magplots\n",
    "\n",
    "# from magplots.magFunctions import * # packaged version\n",
    "from magFunctions import * # local version\n",
    "import numpy as np\n",
    "import datetime"
   ]
  },
  {
   "cell_type": "markdown",
   "id": "435839cf-c1fb-4330-b67b-f05c39373611",
   "metadata": {},
   "source": [
    "### `fill_nan()`: Fits a linear regression to NaN values in a vector."
   ]
  },
  {
   "cell_type": "code",
   "execution_count": null,
   "id": "f2b34de1-e931-4fa5-ac1c-9fe332cc1d3b",
   "metadata": {},
   "outputs": [],
   "source": [
    "y = np.array([40, 41, np.nan, 43, np.nan, 41])\n",
    "fill_nan(y)"
   ]
  },
  {
   "cell_type": "markdown",
   "id": "c5fb1708-88a7-436c-a555-e650f8696b80",
   "metadata": {},
   "source": [
    "### `reject_outliers()`: Replaces outliers with NaN. (Used to eliminate power cycling artifacts.)"
   ]
  },
  {
   "cell_type": "code",
   "execution_count": null,
   "id": "a69146ee-ca10-4778-b8f9-5036cbec3e1a",
   "metadata": {},
   "outputs": [],
   "source": [
    "help(reject_outliers)"
   ]
  },
  {
   "cell_type": "code",
   "execution_count": null,
   "id": "2c9d4fd9-9e83-47e4-9cdc-df1d2ab4c6f7",
   "metadata": {},
   "outputs": [],
   "source": [
    "reject_outliers(np.append(y, [-51e100, 41, 2, 45], axis=0))"
   ]
  },
  {
   "cell_type": "markdown",
   "id": "eb1eb516-19e2-494b-b0c3-174ff4700dc0",
   "metadata": {},
   "source": [
    "###  `magfetch()`: Pulls magnetometer data."
   ]
  },
  {
   "cell_type": "code",
   "execution_count": null,
   "id": "608e1e0c-696e-457b-b4fd-625779fa3741",
   "metadata": {},
   "outputs": [],
   "source": [
    "magfetch(start = datetime.datetime(2016, 6, 24, 0, 0, 0), end = datetime.datetime(2016, 6, 25, 0, 0, 0), \n",
    "    magname = 'pg1', \n",
    "    resolution = '1sec', \n",
    "    is_verbose = True\n",
    ")"
   ]
  },
  {
   "cell_type": "markdown",
   "id": "6b835527-7639-46d2-a8a7-68e3e6565d24",
   "metadata": {},
   "source": [
    "###  `magfetchtgo`: Called by `magfetch` for Arctic magnetometers. Pulls data from the Tromsø Geophysical Observatory. Requires a password.\n",
    "Save the password locally in the file tgopw.txt."
   ]
  },
  {
   "cell_type": "code",
   "execution_count": null,
   "id": "528dc587-e643-4b47-8eeb-a4238eacce89",
   "metadata": {},
   "outputs": [],
   "source": [
    "# TESTING - DELETE\n",
    "start=datetime.datetime(2018, 6, 24, 0, 0, 0)\n",
    "end=datetime.datetime(2018, 6, 25, 0, 0, 0)\n",
    "foo = magfetchtgo(start=start, end=end, magname = 'atu', resolution = '10sec', is_verbose=True)\n",
    "foo"
   ]
  },
  {
   "cell_type": "code",
   "execution_count": null,
   "id": "0ca0442e-13c1-4693-86a8-c77419b46c4d",
   "metadata": {},
   "outputs": [],
   "source": [
    "magfetch(is_verbose=True)\n"
   ]
  },
  {
   "cell_type": "code",
   "execution_count": null,
   "id": "2bc64ad6-5222-4a56-9aa4-cc833568e2cf",
   "metadata": {},
   "outputs": [],
   "source": [
    "help(magfetch)"
   ]
  },
  {
   "cell_type": "markdown",
   "id": "88722928-1544-41fe-b8a9-d7b720af722c",
   "metadata": {},
   "source": [
    "###  `magdf()`: Function to create multi-indexable dataframe of all mag parameters for a given period of time. \n",
    "It can save .csv files as well. If `is_saved==True`, make sure you have a folder named `/output`. \n",
    "It will check to see if you have already generated a file before recreating it, but only if `is_saved==True`."
   ]
  },
  {
   "cell_type": "code",
   "execution_count": null,
   "id": "dfe95508-ea05-4929-883a-d05c24f1ced1",
   "metadata": {},
   "outputs": [],
   "source": [
    "df = magdf(is_verbose = True, is_saved = True)"
   ]
  },
  {
   "cell_type": "markdown",
   "id": "76f66968-83c4-4c85-960f-ed33b9b7ea7f",
   "metadata": {},
   "source": [
    "###  `magfig()`: Function to create time domain plots of conjugate magnetometers."
   ]
  },
  {
   "cell_type": "code",
   "execution_count": null,
   "id": "c331c359-551b-41bc-a56d-561067ec1722",
   "metadata": {},
   "outputs": [],
   "source": [
    "magfig(start=start, end=end, is_verbose = False)"
   ]
  },
  {
   "cell_type": "code",
   "execution_count": null,
   "id": "97efccd4-e6bd-48ae-b5bf-209129bc9cb4",
   "metadata": {},
   "outputs": [],
   "source": [
    "magspect(start=start, end=end, is_verbose = True)"
   ]
  }
 ],
 "metadata": {
  "kernelspec": {
   "display_name": "Python 3 (ipykernel)",
   "language": "python",
   "name": "python3"
  },
  "language_info": {
   "codemirror_mode": {
    "name": "ipython",
    "version": 3
   },
   "file_extension": ".py",
   "mimetype": "text/x-python",
   "name": "python",
   "nbconvert_exporter": "python",
   "pygments_lexer": "ipython3",
   "version": "3.9.1"
  },
  "widgets": {
   "application/vnd.jupyter.widget-state+json": {
    "state": {},
    "version_major": 2,
    "version_minor": 0
   }
  }
 },
 "nbformat": 4,
 "nbformat_minor": 5
}
