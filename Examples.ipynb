{
 "cells": [
  {
   "cell_type": "markdown",
   "id": "985f5194-3924-49de-a79c-a0ac73fb83c8",
   "metadata": {},
   "source": [
    "# `magplots` Examples"
   ]
  },
  {
   "cell_type": "code",
   "execution_count": 1,
   "id": "c27ff990-f512-43a6-8d1d-bf7a12c35cea",
   "metadata": {},
   "outputs": [],
   "source": [
    "# # Install if needed:\n",
    "# pip install magplots\n",
    "\n",
    "# from magplots.magFunctions import * # packaged version\n",
    "from magFunctions import * # local version\n",
    "import numpy as np\n",
    "import datetime"
   ]
  },
  {
   "cell_type": "markdown",
   "id": "435839cf-c1fb-4330-b67b-f05c39373611",
   "metadata": {},
   "source": [
    "### `fill_nan': Fits a linear regression to NaN values in a vector."
   ]
  },
  {
   "cell_type": "code",
   "execution_count": 2,
   "id": "f2b34de1-e931-4fa5-ac1c-9fe332cc1d3b",
   "metadata": {},
   "outputs": [
    {
     "data": {
      "text/plain": [
       "array([40.        , 41.        , 41.18644068, 43.        , 41.69491525,\n",
       "       41.        ])"
      ]
     },
     "execution_count": 2,
     "metadata": {},
     "output_type": "execute_result"
    }
   ],
   "source": [
    "y = np.array([40, 41, np.nan, 43, np.nan, 41])\n",
    "fill_nan(y)"
   ]
  },
  {
   "cell_type": "markdown",
   "id": "c5fb1708-88a7-436c-a555-e650f8696b80",
   "metadata": {},
   "source": [
    "### `reject_outliers': Replaces outliers with NaN. (Used to eliminate power cycling artifacts.)"
   ]
  },
  {
   "cell_type": "code",
   "execution_count": 3,
   "id": "a69146ee-ca10-4778-b8f9-5036cbec3e1a",
   "metadata": {},
   "outputs": [
    {
     "name": "stdout",
     "output_type": "stream",
     "text": [
      "Help on function reject_outliers in module magFunctions:\n",
      "\n",
      "reject_outliers(y)\n",
      "    Function to reject outliers from a 1D dataset.\n",
      "    \n",
      "    Arguments:\n",
      "        y      : 1D numpy array\n",
      "    \n",
      "    Returns:\n",
      "        array with outliers replaced with NaN\n",
      "\n"
     ]
    }
   ],
   "source": [
    "help(reject_outliers)"
   ]
  },
  {
   "cell_type": "code",
   "execution_count": 4,
   "id": "2c9d4fd9-9e83-47e4-9cdc-df1d2ab4c6f7",
   "metadata": {},
   "outputs": [
    {
     "data": {
      "text/plain": [
       "array([40.        , 41.        , 41.18644068, 43.        , 41.69491525,\n",
       "       41.        ,         nan, 41.        ,  2.        , 45.        ])"
      ]
     },
     "execution_count": 4,
     "metadata": {},
     "output_type": "execute_result"
    }
   ],
   "source": [
    "reject_outliers(np.append(y, [-51e100, 41, 2, 45], axis=0))"
   ]
  },
  {
   "cell_type": "markdown",
   "id": "eb1eb516-19e2-494b-b0c3-174ff4700dc0",
   "metadata": {},
   "source": [
    "###  `magfetch`: Pulls magnetometer data."
   ]
  },
  {
   "cell_type": "code",
   "execution_count": 8,
   "id": "608e1e0c-696e-457b-b4fd-625779fa3741",
   "metadata": {},
   "outputs": [
    {
     "name": "stdout",
     "output_type": "stream",
     "text": [
      "100% [..........................................................................] 8211855 / 8211855\n"
     ]
    },
    {
     "data": {
      "text/plain": [
       "{'UT': array([datetime.datetime(2016, 1, 24, 0, 0, 0, 1000),\n",
       "        datetime.datetime(2016, 1, 24, 0, 0, 1, 1000),\n",
       "        datetime.datetime(2016, 1, 24, 0, 0, 2, 1000), ...,\n",
       "        datetime.datetime(2016, 1, 24, 23, 59, 57, 1000),\n",
       "        datetime.datetime(2016, 1, 24, 23, 59, 58, 1000),\n",
       "        datetime.datetime(2016, 1, 24, 23, 59, 59, 1000)], dtype=object),\n",
       " 'UT_1': array([1.45359e+09, 1.45359e+09, 1.45359e+09, ..., 1.45368e+09,\n",
       "        1.45368e+09, 1.45368e+09]),\n",
       " 'MAGNETIC_NORTH_-_H': array([10.25, 10.5 , 10.75, ..., -9.87, -9.87, -9.99]),\n",
       " 'MAGNETIC_EAST_-_E': array([-570.86, -571.11, -571.11, ..., -624.36, -624.36, -624.36]),\n",
       " 'VERTICAL_DOWN_-_Z': array([61.98, 61.98, 61.98, ..., 77.29, 77.29, 77.29])}"
      ]
     },
     "execution_count": 8,
     "metadata": {},
     "output_type": "execute_result"
    }
   ],
   "source": [
    "magfetch(start = datetime.datetime(2016, 1, 24, 0, 0, 0), end = datetime.datetime(2016, 1, 25, 0, 0, 0), \n",
    "    magname = 'pg1', \n",
    "    resolution = '1sec'\n",
    ")"
   ]
  },
  {
   "cell_type": "markdown",
   "id": "6b835527-7639-46d2-a8a7-68e3e6565d24",
   "metadata": {},
   "source": [
    "###  `magfetchtgo`: Called by `magfetch` for Arctic magnetometers. Pulls data from the Tromsø Geophysical Observatory. Requires a password.\n",
    "Save the password locally in the file tgopw.txt."
   ]
  },
  {
   "cell_type": "code",
   "execution_count": 9,
   "id": "73f61264-1ac6-4054-af29-92cf7b607e99",
   "metadata": {},
   "outputs": [
    {
     "name": "stdout",
     "output_type": "stream",
     "text": [
      "Found Tromsø Geophysical Observatory password.\n",
      "Collecting data for atu from TGO.\n",
      "Data for atu collected: 1441 samples.\n"
     ]
    },
    {
     "data": {
      "text/plain": [
       "{'UT': array([datetime.datetime(2016, 1, 24, 0, 0),\n",
       "        datetime.datetime(2016, 1, 24, 0, 1),\n",
       "        datetime.datetime(2016, 1, 24, 0, 2), ...,\n",
       "        datetime.datetime(2016, 1, 24, 23, 58),\n",
       "        datetime.datetime(2016, 1, 24, 23, 59),\n",
       "        datetime.datetime(2016, 1, 25, 0, 0)], dtype=object),\n",
       " 'MAGNETIC_NORTH_-_H': array([999.9999, 999.9999, 999.9999, ..., 999.9999, 999.9999, 999.9999]),\n",
       " 'MAGNETIC_EAST_-_E': array([99999.9, 99999.9, 99999.9, ..., 99999.9, 99999.9, 99999.9]),\n",
       " 'VERTICAL_DOWN_-_Z': array([99999.9, 99999.9, 99999.9, ..., 99999.9, 99999.9, 99999.9])}"
      ]
     },
     "execution_count": 9,
     "metadata": {},
     "output_type": "execute_result"
    }
   ],
   "source": [
    "magfetch(is_verbose=True)"
   ]
  }
 ],
 "metadata": {
  "kernelspec": {
   "display_name": "Python 3 (ipykernel)",
   "language": "python",
   "name": "python3"
  },
  "language_info": {
   "codemirror_mode": {
    "name": "ipython",
    "version": 3
   },
   "file_extension": ".py",
   "mimetype": "text/x-python",
   "name": "python",
   "nbconvert_exporter": "python",
   "pygments_lexer": "ipython3",
   "version": "3.9.1"
  },
  "widgets": {
   "application/vnd.jupyter.widget-state+json": {
    "state": {},
    "version_major": 2,
    "version_minor": 0
   }
  }
 },
 "nbformat": 4,
 "nbformat_minor": 5
}
