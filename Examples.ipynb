{
 "cells": [
  {
   "cell_type": "markdown",
   "id": "985f5194-3924-49de-a79c-a0ac73fb83c8",
   "metadata": {},
   "source": [
    "# `magplots` Examples"
   ]
  },
  {
   "cell_type": "code",
   "execution_count": 1,
   "id": "c27ff990-f512-43a6-8d1d-bf7a12c35cea",
   "metadata": {},
   "outputs": [],
   "source": [
    "# # Install if needed:\n",
    "# pip install magplots\n",
    "\n",
    "# from magplots.magFunctions import * # packaged version\n",
    "from magFunctions import * # local version\n",
    "import numpy as np"
   ]
  },
  {
   "cell_type": "markdown",
   "id": "435839cf-c1fb-4330-b67b-f05c39373611",
   "metadata": {},
   "source": [
    "### `fill_nan': Fits a linear regression to NaN values in a vector."
   ]
  },
  {
   "cell_type": "code",
   "execution_count": 9,
   "id": "f2b34de1-e931-4fa5-ac1c-9fe332cc1d3b",
   "metadata": {},
   "outputs": [
    {
     "data": {
      "text/plain": [
       "array([40.        , 41.        , 41.18644068, 43.        , 41.69491525,\n",
       "       41.        ])"
      ]
     },
     "execution_count": 9,
     "metadata": {},
     "output_type": "execute_result"
    }
   ],
   "source": [
    "y = np.array([40, 41, np.nan, 43, np.nan, 41])\n",
    "fill_nan(y)"
   ]
  },
  {
   "cell_type": "markdown",
   "id": "c5fb1708-88a7-436c-a555-e650f8696b80",
   "metadata": {},
   "source": [
    "### `reject_outliers': Replaces outliers with NaN. (Used to eliminate power cycling artifacts.)"
   ]
  },
  {
   "cell_type": "code",
   "execution_count": 26,
   "id": "a69146ee-ca10-4778-b8f9-5036cbec3e1a",
   "metadata": {},
   "outputs": [
    {
     "name": "stdout",
     "output_type": "stream",
     "text": [
      "Help on function reject_outliers in module magFunctions:\n",
      "\n",
      "reject_outliers(y)\n",
      "    Function to reject outliers from a 1D dataset.\n",
      "    \n",
      "    Arguments:\n",
      "        y      : 1D numpy array\n",
      "    \n",
      "    Returns:\n",
      "        array with outliers replaced with NaN\n",
      "\n"
     ]
    }
   ],
   "source": [
    "help(reject_outliers)"
   ]
  },
  {
   "cell_type": "code",
   "execution_count": 27,
   "id": "2c9d4fd9-9e83-47e4-9cdc-df1d2ab4c6f7",
   "metadata": {},
   "outputs": [
    {
     "data": {
      "text/plain": [
       "array([40.        , 41.        , 41.18644068, 43.        , 41.69491525,\n",
       "       41.        ,         nan, 41.        ,  2.        , 45.        ])"
      ]
     },
     "execution_count": 27,
     "metadata": {},
     "output_type": "execute_result"
    }
   ],
   "source": [
    "reject_outliers(np.append(y, [-51e100, 41, 2, 45], axis=0))"
   ]
  },
  {
   "cell_type": "code",
   "execution_count": null,
   "id": "6c28a2d3-212f-40e9-b450-40e6ea353699",
   "metadata": {},
   "outputs": [],
   "source": []
  }
 ],
 "metadata": {
  "kernelspec": {
   "display_name": "Python 3 (ipykernel)",
   "language": "python",
   "name": "python3"
  },
  "language_info": {
   "codemirror_mode": {
    "name": "ipython",
    "version": 3
   },
   "file_extension": ".py",
   "mimetype": "text/x-python",
   "name": "python",
   "nbconvert_exporter": "python",
   "pygments_lexer": "ipython3",
   "version": "3.9.1"
  },
  "widgets": {
   "application/vnd.jupyter.widget-state+json": {
    "state": {},
    "version_major": 2,
    "version_minor": 0
   }
  }
 },
 "nbformat": 4,
 "nbformat_minor": 5
}
