{
 "cells": [
  {
   "cell_type": "code",
   "execution_count": null,
   "id": "ee278c31-84ad-409f-b20e-8627deda9920",
   "metadata": {},
   "outputs": [],
   "source": [
    "import pickle\n",
    "import pandas as pd\n",
    "import plotly.express as px\n",
    "import datetime\n",
    "# from magplots.magFunctions import * # packaged version\n",
    "# from magFunctions import * # local version\n",
    "from magplots.magFunctions import *\n",
    "import logging\n",
    "logger = logging.getLogger(__name__)\n",
    "logging.basicConfig(format='%(asctime)s - %(levelname)s - %(funcName)s - %(message)s', level=logging.DEBUG)"
   ]
  },
  {
   "cell_type": "markdown",
   "id": "46a51c67-5390-4861-8bec-434d50f1c8f1",
   "metadata": {},
   "source": [
    "# Event Selection"
   ]
  },
  {
   "cell_type": "code",
   "execution_count": null,
   "id": "21aa28d3-c96a-4408-90a3-bfffdb7a1da5",
   "metadata": {},
   "outputs": [],
   "source": [
    "with open('themis_event_list_with_coords.pkl', 'rb') as f:\n",
    "    themis_events = pickle.load(f)\n",
    "themis_events = themis_events.rename(columns={\"Jet Number\": \"Original Jet Number\"})\n",
    "themis_events['Jet Number'] = np.arange(len(themis_events))+2 # preventing numbers from looping, but making them consistent\n",
    "themis_events.shape"
   ]
  },
  {
   "cell_type": "code",
   "execution_count": null,
   "id": "5c077295-1539-4b7a-98b8-d300d37f6ef8",
   "metadata": {},
   "outputs": [],
   "source": [
    "# # TESTING - DELETE\n",
    "\n",
    "# ## Magfig for that day in 2016 with a northern and equatorial jet in the same day:\n",
    "\n",
    "# # help(magfig)\n",
    "# events      = [{'datetime':datetime.datetime(2016, 6, 23, 20, 46, 33),'label':'Northern Jet'}]\n",
    "# events += [{'datetime': datetime.datetime(2016, 6, 23, 23, 21, 54),'label': 'Equatorial Jet'}]\n",
    "# # magfig(parameter='Bx', start=datetime.datetime(2016, 6, 23, 20, 15), end=datetime.datetime(2016, 6, 23, 21, 46), maglist_a=['upn', 'umq', 'gdh', 'atu', 'skt', 'ghb'], maglist_b=['pg0', 'pg1', 'pg2', 'pg3', 'pg4', 'pg5'], is_displayed=False, is_saved=True, events=events, event_fontdict={'size': 20, 'weight': 'bold'})\n",
    "# magfig(parameter='Bx', start=datetime.datetime(2016, 6, 23, 20, 15), end=datetime.datetime(2016, 6, 24, 0, 30), maglist_a=['upn', 'umq', 'gdh', 'atu', 'skt', 'ghb'], maglist_b=['pg0', 'pg1', 'pg2', 'pg3', 'pg4', 'pg5'], is_displayed=False, is_saved=True, events=events, event_fontdict={'size': 20, 'weight': 'bold'})\n",
    "# magfig(parameter='By', start=datetime.datetime(2016, 6, 23, 20, 15), end=datetime.datetime(2016, 6, 24, 0, 30), maglist_a=['upn', 'umq', 'gdh', 'atu', 'skt', 'ghb'], maglist_b=['pg0', 'pg1', 'pg2', 'pg3', 'pg4', 'pg5'], is_displayed=False, is_saved=True, events=events, event_fontdict={'size': 20, 'weight': 'bold'})\n",
    "# magfig(parameter='Bz', start=datetime.datetime(2016, 6, 23, 20, 15), end=datetime.datetime(2016, 6, 24, 0, 30), maglist_a=['upn', 'umq', 'gdh', 'atu', 'skt', 'ghb'], maglist_b=['pg0', 'pg1', 'pg2', 'pg3', 'pg4', 'pg5'], is_displayed=False, is_saved=True, events=events, event_fontdict={'size': 20, 'weight': 'bold'})\n",
    "\n"
   ]
  },
  {
   "cell_type": "code",
   "execution_count": null,
   "id": "d4f5938b-4eb3-4164-a60f-b6f43783043b",
   "metadata": {
    "scrolled": true
   },
   "outputs": [],
   "source": [
    "# for i in [11, 200, 261, 267, 270, 461, 799, 661, 242, 247, 31, 274, 211, 251]:\n",
    "# for i in [11, 200, 261, 267, 3270, 3461, 799, 3661, 6242, 6247, 1031, 6274, 1211, 4251]:\n",
    "foo = themis_events[themis_events[\"Jet Number\"].isin([11, 200, 261, 267, 3270, 3461, 799, 3661, 6242, 6247, 1031, 6274, 1211, 4251])]\n",
    "print(foo [['Original Jet Number','Jet Number' ]])"
   ]
  },
  {
   "cell_type": "markdown",
   "id": "2308c304-cffa-4818-a277-099a843629ca",
   "metadata": {},
   "source": [
    "Add a column named 'Count' that shows the number of events per two-hour period:\n",
    "<!-- # themis_events['Count'] = themis_events.groupby(themis_events['Start'].dt.date)['Jet Number'].transform('count') -->"
   ]
  },
  {
   "cell_type": "code",
   "execution_count": null,
   "id": "fb03bc68-ca17-43ee-a7c1-f9fa98cc680d",
   "metadata": {},
   "outputs": [],
   "source": [
    "def count_events_within_window_iterative(df):\n",
    "  \"\"\"\n",
    "  This function iterates through each row and calculates the count of events\n",
    "  within the 2-hour window relative to that row's index time.\n",
    "\n",
    "  Args:\n",
    "      df: The pandas DataFrame to be processed.\n",
    "\n",
    "  Returns:\n",
    "      A new DataFrame with the added 'Count' column.\n",
    "  \"\"\"\n",
    "\n",
    "  df['Count'] = 0  # Initialize the 'Count' column with zeros\n",
    "  for index, row in df.iterrows():\n",
    "    # Extract current row's 'Start' time and window bounds\n",
    "    start_time = row['Start']\n",
    "    window_start = start_time - pd.Timedelta(hours=1)\n",
    "    window_end = start_time + pd.Timedelta(hours=1)\n",
    "\n",
    "    # Count events within the window (excluding the current row)\n",
    "    count = (df['Start'] >= window_start) & (df['Start'] < window_end) & (df['Start'] != start_time)\n",
    "    df.loc[index, 'Count'] = count.sum()  # Assign the count to the current row\n",
    "\n",
    "  return df\n",
    "\n",
    "# Apply the function to your DataFrame\n",
    "themis_events = count_events_within_window_iterative(themis_events)"
   ]
  },
  {
   "cell_type": "markdown",
   "id": "99ee1eaa-03d3-4ac9-8ea6-26faddbf5a3d",
   "metadata": {},
   "source": [
    "## Downselect: Data in both hemispheres\n",
    "We want to select only events with magnetometer coverage from both AALPIP and the DTU stations."
   ]
  },
  {
   "cell_type": "code",
   "execution_count": null,
   "id": "23b112d0-5e96-4df9-8093-e20be3070301",
   "metadata": {},
   "outputs": [],
   "source": [
    "# themis_events = themis_events[themis_events['Start'] > datetime.datetime(2016, 1, 1)]\n",
    "themis_events.shape"
   ]
  },
  {
   "cell_type": "markdown",
   "id": "a6fc073d-f234-45bc-ae2d-221abf39af43",
   "metadata": {},
   "source": [
    "## Downselect: Check Magnetic Meridian\n",
    "Consider only the cases where transients occurred within +/-2 hours local time of the 40-degree magnetic meridian. This region is selected because of the density of ground stations available in both hemispheres.\n",
    "\n",
    "To check this, we'll pull satellite coordinates from https://cdaweb.gsfc.nasa.gov/. Using orbit parameters for spacecraft of interest (e.g., `THA_OR_SSC`), we can find their positions in a cylindrical coordinate system around Earth. We can then check if their longitude in SM coordinates is within 60&deg; of the latitude of our ground stations, since 60&deg; maps to +/- 2 hours out of 24."
   ]
  },
  {
   "cell_type": "code",
   "execution_count": null,
   "id": "48535d9f-14b6-4856-8be5-2d117e332d29",
   "metadata": {},
   "outputs": [],
   "source": [
    "pm = 30   # 30 degrees of margin\n",
    "themis_events = themis_events.drop(themis_events[(themis_events['SM_LON'] <= 40 - pm) ].index)\n",
    "themis_events = themis_events.drop(themis_events[(themis_events['SM_LON'] >= 40 + pm) ].index)\n",
    "themis_events.head()"
   ]
  },
  {
   "cell_type": "code",
   "execution_count": null,
   "id": "04cc6caa-ba76-4814-8293-8902d0251457",
   "metadata": {},
   "outputs": [],
   "source": [
    "themis_events.shape"
   ]
  },
  {
   "cell_type": "markdown",
   "id": "7788775f-9641-4c39-b92b-a653c90aa5f8",
   "metadata": {},
   "source": [
    "## Downselect: Filter down to isolated jets: "
   ]
  },
  {
   "cell_type": "code",
   "execution_count": null,
   "id": "58216ea8-335e-44ba-aa63-1f2d6d3fb08e",
   "metadata": {},
   "outputs": [],
   "source": [
    "# filter down to isolated jets:\n",
    "themis_events = themis_events.drop(themis_events[(themis_events['Count'] > 0) ].index)\n",
    "print(themis_events.shape)\n",
    "themis_events.head()"
   ]
  },
  {
   "cell_type": "markdown",
   "id": "c83ca385-77d8-4ac8-a715-997a7358489c",
   "metadata": {},
   "source": [
    "## Visualization: Scatterplots\n",
    "We can plot the downselected events according to various criteria."
   ]
  },
  {
   "cell_type": "code",
   "execution_count": null,
   "id": "08004213-65e8-44a0-ba6f-33876904ca97",
   "metadata": {},
   "outputs": [],
   "source": [
    "fig = px.scatter(themis_events, x = 'SM_Y', y = 'SM_Z', hover_data = ['Jet Number', 'Start', 'Dynamic Pressure (nPa)'], color = 'DIST_FROM_MAGNETOPAUSE', range_color=(0,1))\n",
    "fig.update_layout(dragmode='select',\n",
    "                  newselection=dict(line=dict(color='blue')))\n",
    "fig.write_html('dist')\n",
    "fig.show()"
   ]
  },
  {
   "cell_type": "code",
   "execution_count": null,
   "id": "bf17216f-acc9-465b-8ba1-064cacf96ab9",
   "metadata": {},
   "outputs": [],
   "source": [
    "fig = px.scatter(themis_events, x = 'Dynamic Pressure (nPa)', y = 'SM_Z', hover_data = ['Jet Number', 'Start', 'SM_Y', 'Ref Spacecraft'], color = 'DIST_FROM_MAGNETOPAUSE', range_color=(0,1))\n",
    "fig.update_layout(dragmode='select',\n",
    "                  newselection=dict(line=dict(color='blue')))\n",
    "fig.write_html('dist')\n",
    "fig.show()"
   ]
  },
  {
   "cell_type": "code",
   "execution_count": null,
   "id": "2dee7942-993c-4a23-9936-829533fc79b0",
   "metadata": {},
   "outputs": [],
   "source": [
    "fig = px.scatter(themis_events, x = 'DIST_FROM_MAGNETOPAUSE', y = 'SM_Z', hover_data = ['Jet Number', 'Start', 'SM_Y', 'Ref Spacecraft'], color = 'Dynamic Pressure (nPa)', range_color=(0,1))\n",
    "fig.update_layout(dragmode='select',\n",
    "                  newselection=dict(line=dict(color='blue')))\n",
    "fig.write_html('dist')\n",
    "fig.show()"
   ]
  },
  {
   "cell_type": "code",
   "execution_count": null,
   "id": "200dffd9-6480-48f5-8567-b8383b4351bc",
   "metadata": {},
   "outputs": [],
   "source": [
    "fig = px.scatter(themis_events, x = 'SM_Y', y = 'SM_Z', hover_data = ['Jet Number', 'Start', 'Count', 'Dynamic Pressure (nPa)', 'DIST_FROM_MAGNETOPAUSE', 'DIST_FROM_T95_NS', 'Ref Spacecraft'], \n",
    "                 # symbol = 'Ref Spacecraft', \n",
    "                 color = 'Dynamic Pressure (nPa)', range_color=(0,10))\n",
    "fig.update_layout(dragmode='select',\n",
    "                  newselection=dict(line=dict(color='blue')))\n",
    "fig.write_html('dyn.html')\n",
    "fig.show()"
   ]
  },
  {
   "cell_type": "code",
   "execution_count": null,
   "id": "a9d8b58e-71bb-4711-9997-c48974be0756",
   "metadata": {},
   "outputs": [],
   "source": [
    "fig = px.scatter(themis_events, x = 'SM_Y', y = 'SM_Z', hover_data = ['Count', 'Jet Number', 'Start', 'Dynamic Pressure (nPa)', 'DIST_FROM_MAGNETOPAUSE', 'DIST_FROM_T95_NS'], color = 'Count', range_color=(0,10))\n",
    "fig.update_layout(dragmode='select',\n",
    "                  newselection=dict(line=dict(color='blue')))\n",
    "fig.write_html('count.html')\n",
    "fig.show()"
   ]
  },
  {
   "cell_type": "markdown",
   "id": "c9c96434-f772-4c0f-a1ec-a35987f1e9b2",
   "metadata": {},
   "source": [
    "# Import selected events with notes:\n",
    "We manually reviewed the plots according to the following criteria: \n",
    "\n",
    "- Overarching Goal 1: intehemispheric comparisons of mesoscale variations related to Pc5 wave activity caused by jets\n",
    "  - Requirement 1: The jet must be at the same local time as the AALPIP/DTU conjugate network\n",
    "  - Requirement 2: At least 4 conjugate magnetometers in both hemispheres with mesoscale spacing (AALPIP/DTU conjugate network is the only one of this type) \n",
    "  - Requirement 3: Pc5 waves must be clearly observed immediately following the jet\n",
    "  - Soft Requirement 4: There must be little wave activity happening before the jet to make the case clear that the jet is causing the wave\n",
    "  - Soft Requirement 5: Immediately before, during, and after the jet the background magnetic activity should be relatively weak so that it’s possible to conduct Fourier analysis without contamination (i.e., no spikes, big dips, etc – this fouls up the Fourier analysis and causes spurious power that might be mistaken for waves)   \n",
    " - Overarching Goal 2: Examine at least 2 events with different jet locations but everything else that’s known to affect Pc5 wave amplitudes as similar as possible (local time, day of year, jet dynamic pressure, other solar wind conditions like IMF Bz) to do more of a controlled experiment on the effect of jet position of IH asymmetries\n",
    "   - Requirement 1: Select at least one jet at positive SM z\n",
    "   - Requirement 2: Select at least one jet at negative SM z\n",
    "   - Requirement 3: Have both jets occur at roughly the SM y position (or at least both positive SM y, both negative SM y, etc)\n",
    "   - Soft Requirement 4 (related to 3): Have both jets occur at roughly the same time of day\n",
    "   - Soft Requirement 5: Select jets that occur at roughly the same time of year (e.g., both near northern winter, both near spring equinox) to reduce effects related to ionospheric conductance\n",
    "   - Soft Requirement 6: Select jets with similar dynamic pressures and/or x component of velocity (e.g. within a factor of 2)\n"
   ]
  },
  {
   "cell_type": "code",
   "execution_count": null,
   "id": "1ed1c10c-eb7c-487c-a698-b9b27b2e3fef",
   "metadata": {},
   "outputs": [],
   "source": [
    "# selected_events = themis_events[themis_events['Jet Number'].isin([31, 461, 242])] #final selection\n",
    "# selected_events.to_csv('output/selected/selected_events.csv')\n",
    "\n",
    "selected_events = pd.read_csv('selected_HSJ_events_with_notes.csv')\n",
    "selected_events[\"Max\"] = pd.to_datetime(selected_events[\"Max\"])\n",
    "selected_events[\"Start\"] = pd.to_datetime(selected_events[\"Start\"])\n",
    "selected_events[\"End\"] = pd.to_datetime(selected_events[\"End\"])\n",
    "selected_events = selected_events.set_index('Max')\n",
    "selected_events = selected_events[selected_events[\"Selected\"] == True]"
   ]
  },
  {
   "cell_type": "markdown",
   "id": "3b8c0f89-c273-48a2-8c55-0d208eb50aff",
   "metadata": {},
   "source": [
    "### Export table of selected events:"
   ]
  },
  {
   "cell_type": "code",
   "execution_count": null,
   "id": "d19d8349-2a19-4261-88eb-19726d450029",
   "metadata": {},
   "outputs": [],
   "source": [
    "summary = selected_events.copy()\n",
    "summary = summary.drop([\"Start\", \"End\"], axis = 1)\n",
    "print(summary.to_markdown())\n",
    "# print(summary.to_latex())"
   ]
  },
  {
   "cell_type": "code",
   "execution_count": null,
   "id": "d55b9d51-b95b-44d1-b246-74bfab8ac5ed",
   "metadata": {},
   "outputs": [],
   "source": [
    "# selected_events = themis_events[themis_events[\"Jet Number\"].isin([11, 200, 261, 267, 3270, 3461, 799, 3661, 6242, 6247, 1031, 6274, 1211, 4251])]\n",
    "selected_events = themis_events[themis_events[\"Jet Number\"].isin([11, 1031, 3461, 3242])]"
   ]
  },
  {
   "cell_type": "markdown",
   "id": "8aa47524-ecd9-4393-8a08-8bade67fc4da",
   "metadata": {},
   "source": [
    "# Plot Selected Events:"
   ]
  },
  {
   "cell_type": "code",
   "execution_count": null,
   "id": "f2983e9e-98c6-4c74-846a-d0d5b8576360",
   "metadata": {},
   "outputs": [],
   "source": [
    "fig = px.scatter(selected_events, x = 'SM_Y', y = 'SM_Z', hover_data = ['Jet Number', 'Start', 'Dynamic Pressure (nPa)', 'DIST_FROM_MAGNETOPAUSE', 'DIST_FROM_T95_NS', 'Ref Spacecraft'], \n",
    "                 # symbol = 'Ref Spacecraft', \n",
    "                 color = 'Dynamic Pressure (nPa)', range_color=(0,10))\n",
    "fig.update_layout(dragmode='select',\n",
    "                  newselection=dict(line=dict(color='blue')))\n",
    "fig.write_html('dyn-reduced.html')\n",
    "fig.show()"
   ]
  },
  {
   "cell_type": "markdown",
   "id": "4e73c4c6-4d47-41df-b502-35619ec1c52d",
   "metadata": {},
   "source": [
    "## Create time domain, spectrogram plots:"
   ]
  },
  {
   "cell_type": "code",
   "execution_count": null,
   "id": "5b665fa1-df61-4d80-afde-9064d2197ac1",
   "metadata": {},
   "outputs": [],
   "source": [
    "# themis_events = themis_events.reset_index()\n",
    "themis_events = selected_events.copy() # comment out to generate ALL THE PLOTS. Comment in if you don't have a day and a half to run this notebook right now.\n",
    "\n",
    "for i in themis_events.index:\n",
    "    print('Computing plots for jet #' + str(themis_events['Jet Number'][i]) + ': ')\n",
    "    events = themis_events[themis_events.index == i].reset_index()[['Max', 'Jet Number']].rename(columns={\"Max\": \"datetime\", \"Jet Number\": \"label\"}).to_dict('records')\n",
    "    print(events)\n",
    "    # start = themis_events['Start'][i].floor('1d')\n",
    "    # end = start + pd.Timedelta(hours = 24)\n",
    "    # print(start)\n",
    "    # print(end)\n",
    "    for parameter in ['Bx', 'By', 'Bz']:\n",
    "        try:\n",
    "            print('Plotting ' + parameter + ' for jet #' + str(themis_events['Jet Number'][i]) + ': ')\n",
    "            magspect(parameter = parameter, #start = start, end = end,\n",
    "                start = (themis_events['Start'][i] - pd.Timedelta(hours=2)).to_pydatetime(),\n",
    "                end = (themis_events['End'][i]+ pd.Timedelta(hours=2)).to_pydatetime(),\n",
    "                is_logaxis = True,\n",
    "                # is_logcolor = False,\n",
    "                is_saved = True, \n",
    "                fstem = \"selected/Jet \" + str(themis_events['Jet Number'][i]) + \"_\",\n",
    "                # is_overplotted = False,\n",
    "                # color = 'red', \n",
    "                events = events\n",
    "            )\n",
    "            magfig(parameter = parameter, #start = start, end = end,\n",
    "                # start = themis_events['Start'][1] - pd.Timedelta(hours=2)).to_pydatetime()\n",
    "                # end = (themis_events['End'][i]+ pd.Timedelta(hours=2)).to_pydatetime(),\n",
    "                start = (themis_events['Start'][i] - pd.Timedelta(hours=2)).to_pydatetime(),\n",
    "                end = (themis_events['End'][i]+ pd.Timedelta(hours=2)).to_pydatetime(),\n",
    "                is_detrended = True,\n",
    "                is_saved = True, \n",
    "                # is_autoscaled = True,\n",
    "                ylim = [200, 200],\n",
    "                fstem = \"selected/Jet \" + str(themis_events['Jet Number'][i]) + \"_autoscaled_\",\n",
    "                events = events\n",
    "            )\n",
    "        except Exception as e:\n",
    "            logger.info('Error on the plots for jet #' + str(themis_events['Jet Number'][i]) + ': ')\n",
    "            logger.info(e)\n",
    "            print('Continuing to next plot...')\n",
    "            continue\n"
   ]
  },
  {
   "cell_type": "code",
   "execution_count": null,
   "id": "11a22be0-5a45-41fa-9d80-febd8d7c3928",
   "metadata": {},
   "outputs": [],
   "source": [
    "            magfig(parameter = parameter, #start = start, end = end,\n",
    "                # start = themis_events['Start'][1] - pd.Timedelta(hours=2)).to_pydatetime()\n",
    "                # end = (themis_events['End'][i]+ pd.Timedelta(hours=2)).to_pydatetime(),\n",
    "                start = (themis_events['Start'][i] - pd.Timedelta(hours=2)).to_pydatetime(),\n",
    "                end = (themis_events['End'][i]+ pd.Timedelta(hours=2)).to_pydatetime(),\n",
    "                is_detrended = True,\n",
    "                is_saved = True, \n",
    "                # is_autoscaled = True,\n",
    "                ylim = [200, 200],\n",
    "                fstem = \"selected/Jet \" + str(themis_events['Jet Number'][i]) + \"_autoscaled_\",\n",
    "                events = events\n",
    "            ) #THIS IS A TEST"
   ]
  },
  {
   "cell_type": "code",
   "execution_count": null,
   "id": "955461d1-c25b-4e5c-a88f-709e7a4eb9ef",
   "metadata": {},
   "outputs": [],
   "source": [
    "    magname = \"pg4\"\n",
    "    data = cdas.get_data(\n",
    "         \"sp_phys\",\n",
    "         \"THG_L2_MAG_\" + str(magname).upper(),\n",
    "         start,\n",
    "         end,\n",
    "        [\"thg_mag_\" + str(magname)],\n",
    "    )"
   ]
  },
  {
   "cell_type": "code",
   "execution_count": null,
   "id": "9017009a-de50-4660-a73d-6dc18fa4ab5b",
   "metadata": {},
   "outputs": [],
   "source": [
    "            magfig(parameter = parameter, #start = start, end = end,\n",
    "                # start = themis_events['Start'][1] - pd.Timedelta(hours=2)).to_pydatetime()\n",
    "                # end = (themis_events['End'][i]+ pd.Timedelta(hours=2)).to_pydatetime(),\n",
    "                start = (themis_events['Start'][i] - pd.Timedelta(hours=2)).to_pydatetime(),\n",
    "                end = (themis_events['End'][i]+ pd.Timedelta(hours=2)).to_pydatetime(),\n",
    "                is_detrended = True,\n",
    "                is_saved = True, \n",
    "                # is_autoscaled = True,\n",
    "                ylim = [200, 200],\n",
    "                fstem = \"selected/Jet \" + str(themis_events['Jet Number'][i]) + \"_autoscaled_\",\n",
    "                events = events\n",
    "            )"
   ]
  },
  {
   "cell_type": "markdown",
   "id": "35d52211-86ae-4bb6-93c7-b170c1c6cd88",
   "metadata": {},
   "source": [
    "## Generate EIC Quicklook Plots:"
   ]
  },
  {
   "cell_type": "code",
   "execution_count": null,
   "id": "3c04f401-db51-4c8c-8dbb-284f41accf89",
   "metadata": {},
   "outputs": [],
   "source": [
    "from datetime import datetime\n",
    "\n",
    "def generate_quicklook_url(date_time):\n",
    "  \"\"\"Generates a URL for a quicklook plot based on a datetime object.\n",
    "\n",
    "  Args:\n",
    "      date_time: A datetime object representing the desired time.\n",
    "\n",
    "  Returns:\n",
    "      A string containing the URL for the quicklook plot.\n",
    "\n",
    "  Example usage:\n",
    "        datetime_obj = datetime(year=2016, month=6, day=13, hour=3, minute=33)\n",
    "        quicklook_url = generate_quicklook_url(datetime_obj)\n",
    "        print(quicklook_url)\n",
    "  \"\"\"\n",
    "  base_url = \"https://vmo.igpp.ucla.edu/data1/SECS/Southernquicklook/\"\n",
    "  year = date_time.year\n",
    "  month = date_time.month\n",
    "  day = date_time.day\n",
    "  hour = str(date_time.hour).zfill(2)  # Convert hour to string before using zfill()\n",
    "  minute = str(date_time.minute).zfill(2)  # Convert minute to string before using zfill()\n",
    "  second = str(date_time.second).zfill(2)  # Convert second to string before using zfill()\n",
    "\n",
    "  # filename = f\"SouthEIC{year}{month:02d}{day:02d}_{hour}{minute}{second}.jpg\"\n",
    "  filename = f\"SouthEIC{year}{month:02d}{day:02d}_{hour}{minute}00.jpg\"\n",
    "  url = f\"{base_url}{year}/{month:02d}/{day:02d}/{filename}\"\n",
    "\n",
    "  return url\n",
    "\n",
    "\n",
    "for i in selected_events.index:\n",
    "    datetime_obj = i\n",
    "    quicklook_url = generate_quicklook_url(datetime_obj)\n",
    "    print(str(selected_events['Jet Number'][i]) + \": \" + quicklook_url)\n",
    "    # print(quicklook_url)\n"
   ]
  },
  {
   "cell_type": "code",
   "execution_count": null,
   "id": "a9f82b1e-73f0-45df-9d95-391be5c8428c",
   "metadata": {},
   "outputs": [],
   "source": []
  }
 ],
 "metadata": {
  "kernelspec": {
   "display_name": "Python 3 (ipykernel)",
   "language": "python",
   "name": "python3"
  },
  "language_info": {
   "codemirror_mode": {
    "name": "ipython",
    "version": 3
   },
   "file_extension": ".py",
   "mimetype": "text/x-python",
   "name": "python",
   "nbconvert_exporter": "python",
   "pygments_lexer": "ipython3",
   "version": "3.9.1"
  },
  "widgets": {
   "application/vnd.jupyter.widget-state+json": {
    "state": {},
    "version_major": 2,
    "version_minor": 0
   }
  }
 },
 "nbformat": 4,
 "nbformat_minor": 5
}
